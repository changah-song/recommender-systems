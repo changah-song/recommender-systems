{
 "cells": [
  {
   "cell_type": "code",
   "execution_count": 2,
   "metadata": {},
   "outputs": [
    {
     "name": "stdout",
     "output_type": "stream",
     "text": [
      "RMSE: 0.8718\n",
      "MAE:  0.6851\n"
     ]
    },
    {
     "data": {
      "text/plain": [
       "0.6850868833431525"
      ]
     },
     "execution_count": 2,
     "metadata": {},
     "output_type": "execute_result"
    }
   ],
   "source": [
    "import pandas as pd\n",
    "# import the ratings data and save as pandas data frame\n",
    "data = [i.split(\"::\") for i in open(\"./data/ml-1m/ratings.dat\").readlines()]\n",
    "data = pd.DataFrame(data, columns=[\"user\", \"item\", \"rating\", \"timestamp\"]).drop(columns=['timestamp'])\n",
    "\n",
    "from surprise import Reader, Dataset\n",
    "df = Dataset.load_from_df(data[['user', 'item', 'rating']], Reader())\n",
    "\n",
    "from surprise import SVD, accuracy\n",
    "from surprise.model_selection import train_test_split\n",
    "# here we split the data into training and testing and fit the SVD model to the data\n",
    "trainset, testset = train_test_split(df, test_size=0.2)\n",
    "algo = SVD()\n",
    "algo.fit(trainset)\n",
    "prediction = algo.test(testset)\n",
    "accuracy.rmse(prediction)\n",
    "accuracy.mae(prediction)"
   ]
  }
 ],
 "metadata": {
  "kernelspec": {
   "display_name": "Python 3.10.7 64-bit",
   "language": "python",
   "name": "python3"
  },
  "language_info": {
   "codemirror_mode": {
    "name": "ipython",
    "version": 3
   },
   "file_extension": ".py",
   "mimetype": "text/x-python",
   "name": "python",
   "nbconvert_exporter": "python",
   "pygments_lexer": "ipython3",
   "version": "3.10.7"
  },
  "orig_nbformat": 4,
  "vscode": {
   "interpreter": {
    "hash": "aee8b7b246df8f9039afb4144a1f6fd8d2ca17a180786b69acc140d282b71a49"
   }
  }
 },
 "nbformat": 4,
 "nbformat_minor": 2
}
